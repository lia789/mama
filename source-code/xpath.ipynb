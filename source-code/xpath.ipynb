{
 "cells": [
  {
   "cell_type": "code",
   "execution_count": null,
   "metadata": {},
   "outputs": [],
   "source": [
    "\"\"\"\n",
    "List of columns:\n",
    "_01_FULL_NAME\n",
    "_02_ADDRESS\n",
    "_03_ADDRESS_NUMBER\n",
    "_04_PHONE\n",
    "_05_CELLPHONE\n",
    "_06_PROFILE_URL\n",
    "\n",
    "# Additional columns\n",
    "_07_SEARCH_KEYWORD\n",
    "_08_DATA_FOUND\n",
    "_09_SEARCH_URL\n",
    "_10_FULL_ADDRESS\n",
    "_11_MOBILE_2\n",
    "_12_MOBILE_3\n",
    "_13_MOBILE_4\n",
    "_14_CELLPHONE_2\n",
    "_15_CELLPHONE_3\n",
    "_16_CELLPHONE_4\n",
    "_17_CITY\n",
    "\n",
    "\n",
    "https://www.imenik.hr/imenik/15109296/detalji/Igor%20Apn%20Zagreb%20%C5%BDerjav.html   (Teliphone)\n",
    "https://www.imenik.hr/imenik/17093932/detalji/Cedepe%20Zagreb.html  (Mobile)\n",
    "https://www.imenik.hr/imenik/17107674/detalji/Martina%20Podravec%20Zagreb%20Habitatio.html (2 Mobile)\n",
    "https://www.imenik.hr/imenik/16423805/detalji/Josip%20Repnjak.html (3 Teliphone)\n",
    "\n",
    "\"\"\""
   ]
  },
  {
   "cell_type": "code",
   "execution_count": 2,
   "metadata": {},
   "outputs": [],
   "source": [
    "import re\n",
    "import math\n",
    "from urllib.parse import quote\n",
    "from urllib.parse import urlsplit, urlunsplit\n",
    "from parsel import Selector\n",
    "\n",
    "\n",
    "\n",
    "def split_address(raw_address):\n",
    "    try:\n",
    "        components = raw_address.split(', ')\n",
    "        zip_code, city = components[0].split(' ')\n",
    "        street = components[1]\n",
    "        match = re.search(r'(\\D+)(\\d+\\w*)', street)\n",
    "        if match:\n",
    "            street_name, street_number = match.groups()\n",
    "        else:\n",
    "            street_name = street\n",
    "            street_number = None\n",
    "        \n",
    "        return zip_code, city, street_name, street_number\n",
    "    except Exception as e:\n",
    "        return None, None, None, None\n",
    "\n",
    "\n",
    "def encode_url(url):\n",
    "    return quote(url, safe=':/')\n",
    "\n",
    "\n",
    "\n",
    "\n",
    "def calculate_total_pages(data_found):\n",
    "    try:\n",
    "        items_per_page = 10\n",
    "        total_pages = math.ceil(data_found / items_per_page)\n",
    "    except:\n",
    "        total_pages = 1\n",
    "    return total_pages"
   ]
  },
  {
   "cell_type": "code",
   "execution_count": null,
   "metadata": {},
   "outputs": [],
   "source": [
    "html = input()\n",
    "response = Selector(text=html)"
   ]
  },
  {
   "cell_type": "markdown",
   "metadata": {},
   "source": [
    "### **Profile Xpath**"
   ]
  },
  {
   "cell_type": "code",
   "execution_count": null,
   "metadata": {},
   "outputs": [],
   "source": [
    "_01_FULL_NAME = response.xpath(\"//h2/strong/text()\").get()\n",
    "\n",
    "_04_PHONE = response.xpath(\"(//th[contains(text(), 'TELEFON')])[1]/../following-sibling::tr/td/strong/text()\").get()\n",
    "_05_CELLPHONE = response.xpath(\"(//th[contains(text(), 'MOB')])[1]/../following-sibling::tr/td/strong/text()\").get()\n",
    "# _06_PROFILE_URLs\n",
    "\n",
    "\n",
    "_10_FULL_ADDRESS = response.xpath(\"//h4/a/text()\").get()\n",
    "_18_ZIP_CODE, _17_CITY, _02_ADDRESS, _03_ADDRESS_NUMBER = split_address(_10_FULL_ADDRESS)\n",
    "_11_MOBILE_2 = response.xpath(\"(//th[contains(text(), 'MOB')])[2]/../following-sibling::tr/td/strong/text()\").get()\n",
    "_12_MOBILE_3 = response.xpath(\"(//th[contains(text(), 'MOB')])[3]/../following-sibling::tr/td/strong/text()\").get()\n",
    "_13_CELLPHONE_2  = response.xpath(\"(//th[contains(text(), 'TELEFON')])[2]/../following-sibling::tr/td/strong/text()\").get()\n",
    "_14_CELLPHONE_3 = response.xpath(\"(//th[contains(text(), 'TELEFON')])[3]/../following-sibling::tr/td/strong/text()\").get()"
   ]
  },
  {
   "cell_type": "markdown",
   "metadata": {},
   "source": [
    "### **Search page xpath**"
   ]
  },
  {
   "cell_type": "code",
   "execution_count": null,
   "metadata": {},
   "outputs": [],
   "source": [
    "html = input()\n",
    "response = Selector(text=html)"
   ]
  },
  {
   "cell_type": "code",
   "execution_count": null,
   "metadata": {},
   "outputs": [],
   "source": [
    "# _07_SEARCH_KEYWORD\n",
    "_08_DATA_FOUND = response.xpath(\"//td[@class='c_32']/strong/text()\").get()\n",
    "# _09_SEARCH_URL"
   ]
  },
  {
   "cell_type": "code",
   "execution_count": null,
   "metadata": {},
   "outputs": [],
   "source": [
    "rez_item = response.xpath(\"//div[@class='rez_item rez_item_0']\")\n",
    "for item in rez_item:\n",
    "    profile_url_raw = f\"https://www.imenik.hr{item.xpath('.//h4/a/@href').get()}\"\n",
    "    _06_PROFILE_URLs = encode_url(profile_url_raw)"
   ]
  },
  {
   "cell_type": "code",
   "execution_count": null,
   "metadata": {},
   "outputs": [],
   "source": []
  },
  {
   "cell_type": "code",
   "execution_count": 3,
   "metadata": {},
   "outputs": [
    {
     "name": "stdout",
     "output_type": "stream",
     "text": [
      "https://www.imenik.hr/imenik/trazi/1/Osobe/sve/sve/vaznost/zagreb,%20karlova%C4%8Dka%20cesta%202b.html\n",
      "https://www.imenik.hr/imenik/trazi/2/Osobe/sve/sve/vaznost/zagreb,%20karlova%C4%8Dka%20cesta%202b.html\n",
      "https://www.imenik.hr/imenik/trazi/3/Osobe/sve/sve/vaznost/zagreb,%20karlova%C4%8Dka%20cesta%202b.html\n",
      "https://www.imenik.hr/imenik/trazi/4/Osobe/sve/sve/vaznost/zagreb,%20karlova%C4%8Dka%20cesta%202b.html\n",
      "https://www.imenik.hr/imenik/trazi/5/Osobe/sve/sve/vaznost/zagreb,%20karlova%C4%8Dka%20cesta%202b.html\n"
     ]
    }
   ],
   "source": [
    "\n",
    "\n",
    "number_of_page = 5\n",
    "base_url = \"https://www.imenik.hr/imenik/trazi/{}\"\n",
    "current_url = \"https://www.imenik.hr/imenik/trazi/1/Osobe/sve/sve/vaznost/zagreb,%20karlova%C4%8Dka%20cesta%202b.html\"\n",
    "\n",
    "url_components = urlsplit(current_url)\n",
    "\n",
    "# Extract the changing part of the URL\n",
    "url_part = url_components.path + url_components.query\n",
    "\n",
    "for page_number in range(1, number_of_page + 1):\n",
    "    # Construct the new URL\n",
    "    new_path = url_part.replace('/trazi/1', f'/trazi/{page_number}')\n",
    "    new_url_components = url_components._replace(path=new_path)\n",
    "    new_url = urlunsplit(new_url_components)\n",
    "    \n",
    "    print(new_url)\n",
    "\n",
    "\n"
   ]
  },
  {
   "cell_type": "code",
   "execution_count": null,
   "metadata": {},
   "outputs": [],
   "source": []
  },
  {
   "cell_type": "markdown",
   "metadata": {},
   "source": [
    "### **Keyword Building Code**"
   ]
  },
  {
   "cell_type": "code",
   "execution_count": null,
   "metadata": {},
   "outputs": [],
   "source": [
    "#\n",
    "import pandas as pd\n",
    "\n",
    "# Assuming df is your DataFrame\n",
    "df = pd.read_csv('1st.csv')\n",
    "\n",
    "# Remove any leading/trailing white space\n",
    "df['city'] = df['city'].str.strip()\n",
    "df['street'] = df['street'].str.strip()\n",
    "\n",
    "# Convert 'number' to string\n",
    "df['number'] = df['number'].astype(str)\n",
    "\n",
    "# Create the new column\n",
    "df['keyword'] = df['city'] + ', ' + df['street'] + ' ' + df['number']\n",
    "\n",
    "df.to_csv(\"data.csv\", index=False)"
   ]
  },
  {
   "cell_type": "code",
   "execution_count": null,
   "metadata": {},
   "outputs": [],
   "source": [
    "\n"
   ]
  },
  {
   "cell_type": "code",
   "execution_count": null,
   "metadata": {},
   "outputs": [],
   "source": []
  }
 ],
 "metadata": {
  "kernelspec": {
   "display_name": "env",
   "language": "python",
   "name": "python3"
  },
  "language_info": {
   "codemirror_mode": {
    "name": "ipython",
    "version": 3
   },
   "file_extension": ".py",
   "mimetype": "text/x-python",
   "name": "python",
   "nbconvert_exporter": "python",
   "pygments_lexer": "ipython3",
   "version": "3.10.12"
  },
  "orig_nbformat": 4
 },
 "nbformat": 4,
 "nbformat_minor": 2
}
